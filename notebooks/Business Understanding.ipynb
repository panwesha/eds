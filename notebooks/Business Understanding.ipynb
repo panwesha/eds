{
 "cells": [
  {
   "cell_type": "code",
   "execution_count": 2,
   "metadata": {},
   "outputs": [
    {
     "name": "stdout",
     "output_type": "stream",
     "text": [
      "Business Understanding.ipynb\r\n",
      "CRISP_DM.png\r\n",
      "Data_Preparation_Large_File_V1.1.ipynb\r\n",
      "Data_Preparation_V1.1.ipynb\r\n",
      "Data_Understanding-V1.0.ipynb\r\n",
      "Data_Understanding_EDA_1.0.ipynb\r\n",
      "Evaluation_Walk_through_1.0.ipynb\r\n",
      "Evaluation_Walkthrough_SIR.ipynb\r\n",
      "Modeling_forecast_facebook_prophet_1.0..ipynb\r\n",
      "Modeling_spread_V1.0.ipynb\r\n",
      "Overfitting_1.0..ipynb\r\n",
      "SIR_Modeling_2.0.ipynb\r\n",
      "SIR_modeling_1.0..ipynb\r\n",
      "World_Population_Data_Preparation_V1.0_Final.ipynb\r\n"
     ]
    }
   ],
   "source": [
    "!ls"
   ]
  },
  {
   "cell_type": "markdown",
   "metadata": {},
   "source": [
    "![CRISP_DM](CRISP_DM.png)"
   ]
  },
  {
   "cell_type": "markdown",
   "metadata": {},
   "source": [
    "# Business Understanding "
   ]
  },
  {
   "cell_type": "markdown",
   "metadata": {},
   "source": [
    "We would like to track Corona VIRUS spread across countries and with personal local information\n",
    "\n",
    "The general information is not so relevant for me I would like to have a deep dive local development of the spread"
   ]
  },
  {
   "cell_type": "markdown",
   "metadata": {},
   "source": [
    "# Goals"
   ]
  },
  {
   "cell_type": "markdown",
   "metadata": {},
   "source": [
    "* We would like to understand the data quality\n",
    "\n",
    "* Everything should be automated as much as possible: how many clicks do we need to execute the full pipeline"
   ]
  },
  {
   "cell_type": "markdown",
   "metadata": {},
   "source": [
    "# Constraints:\n",
    "* Each notebook should be left clean and ready for full execution"
   ]
  },
  {
   "cell_type": "code",
   "execution_count": null,
   "metadata": {},
   "outputs": [],
   "source": []
  }
 ],
 "metadata": {
  "kernelspec": {
   "display_name": "Python 3",
   "language": "python",
   "name": "python3"
  },
  "language_info": {
   "codemirror_mode": {
    "name": "ipython",
    "version": 3
   },
   "file_extension": ".py",
   "mimetype": "text/x-python",
   "name": "python",
   "nbconvert_exporter": "python",
   "pygments_lexer": "ipython3",
   "version": "3.7.7"
  }
 },
 "nbformat": 4,
 "nbformat_minor": 4
}
